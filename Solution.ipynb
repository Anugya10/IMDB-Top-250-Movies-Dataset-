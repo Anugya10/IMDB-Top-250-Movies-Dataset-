{
  "metadata": {
    "kernelspec": {
      "name": "python",
      "display_name": "Python (Pyodide)",
      "language": "python"
    },
    "language_info": {
      "codemirror_mode": {
        "name": "python",
        "version": 3
      },
      "file_extension": ".py",
      "mimetype": "text/x-python",
      "name": "python",
      "nbconvert_exporter": "python",
      "pygments_lexer": "ipython3",
      "version": "3.8"
    }
  },
  "nbformat_minor": 4,
  "nbformat": 4,
  "cells": [
    {
      "cell_type": "code",
      "source": "import pandas as pd",
      "metadata": {
        "trusted": true
      },
      "outputs": [],
      "execution_count": 1
    },
    {
      "cell_type": "code",
      "source": "DF = pd.read_csv('IMDB.csv')",
      "metadata": {
        "trusted": true
      },
      "outputs": [],
      "execution_count": 2
    },
    {
      "cell_type": "code",
      "source": "DF.head(2)",
      "metadata": {
        "trusted": true
      },
      "outputs": [
        {
          "execution_count": 126,
          "output_type": "execute_result",
          "data": {
            "text/plain": "   rank                      name  year  rating        genre certificate  \\\n0     1  The Shawshank Redemption  1994     9.3        Drama           R   \n1     2             The Godfather  1972     9.2  Crime,Drama           R   \n\n  run_time    budget box_office  MovieStatus  \n0   2h 22m  25000000   28884504  Blockbuster  \n1   2h 55m   6000000  250341816         Flop  ",
            "text/html": "<div>\n<style scoped>\n    .dataframe tbody tr th:only-of-type {\n        vertical-align: middle;\n    }\n\n    .dataframe tbody tr th {\n        vertical-align: top;\n    }\n\n    .dataframe thead th {\n        text-align: right;\n    }\n</style>\n<table border=\"1\" class=\"dataframe\">\n  <thead>\n    <tr style=\"text-align: right;\">\n      <th></th>\n      <th>rank</th>\n      <th>name</th>\n      <th>year</th>\n      <th>rating</th>\n      <th>genre</th>\n      <th>certificate</th>\n      <th>run_time</th>\n      <th>budget</th>\n      <th>box_office</th>\n      <th>MovieStatus</th>\n    </tr>\n  </thead>\n  <tbody>\n    <tr>\n      <th>0</th>\n      <td>1</td>\n      <td>The Shawshank Redemption</td>\n      <td>1994</td>\n      <td>9.3</td>\n      <td>Drama</td>\n      <td>R</td>\n      <td>2h 22m</td>\n      <td>25000000</td>\n      <td>28884504</td>\n      <td>Blockbuster</td>\n    </tr>\n    <tr>\n      <th>1</th>\n      <td>2</td>\n      <td>The Godfather</td>\n      <td>1972</td>\n      <td>9.2</td>\n      <td>Crime,Drama</td>\n      <td>R</td>\n      <td>2h 55m</td>\n      <td>6000000</td>\n      <td>250341816</td>\n      <td>Flop</td>\n    </tr>\n  </tbody>\n</table>\n</div>"
          },
          "metadata": {}
        }
      ],
      "execution_count": 126
    },
    {
      "cell_type": "code",
      "source": "DF.shape",
      "metadata": {
        "trusted": true
      },
      "outputs": [
        {
          "execution_count": 5,
          "output_type": "execute_result",
          "data": {
            "text/plain": "(250, 13)"
          },
          "metadata": {}
        }
      ],
      "execution_count": 5
    },
    {
      "cell_type": "code",
      "source": "DF.info()",
      "metadata": {
        "trusted": true
      },
      "outputs": [
        {
          "name": "stdout",
          "text": "<class 'pandas.core.frame.DataFrame'>\nRangeIndex: 250 entries, 0 to 249\nData columns (total 13 columns):\n #   Column       Non-Null Count  Dtype  \n---  ------       --------------  -----  \n 0   rank         250 non-null    int64  \n 1   name         250 non-null    object \n 2   year         250 non-null    int64  \n 3   rating       250 non-null    float64\n 4   genre        250 non-null    object \n 5   certificate  250 non-null    object \n 6   run_time     250 non-null    object \n 7   tagline      250 non-null    object \n 8   budget       250 non-null    object \n 9   box_office   250 non-null    object \n 10  casts        250 non-null    object \n 11  directors    250 non-null    object \n 12  writers      250 non-null    object \ndtypes: float64(1), int64(2), object(10)\nmemory usage: 15.7+ KB\n",
          "output_type": "stream"
        }
      ],
      "execution_count": 6
    },
    {
      "cell_type": "code",
      "source": "NN_year = DF[DF['year'].isnull()]",
      "metadata": {
        "trusted": true
      },
      "outputs": [],
      "execution_count": 13
    },
    {
      "cell_type": "code",
      "source": "NN_year.shape",
      "metadata": {
        "trusted": true
      },
      "outputs": [
        {
          "execution_count": 14,
          "output_type": "execute_result",
          "data": {
            "text/plain": "(0, 13)"
          },
          "metadata": {}
        }
      ],
      "execution_count": 14
    },
    {
      "cell_type": "code",
      "source": "NN_rating = DF[DF['rating'].isnull()]",
      "metadata": {
        "trusted": true
      },
      "outputs": [],
      "execution_count": 15
    },
    {
      "cell_type": "code",
      "source": "NN_rating.shape",
      "metadata": {
        "trusted": true
      },
      "outputs": [
        {
          "execution_count": 16,
          "output_type": "execute_result",
          "data": {
            "text/plain": "(0, 13)"
          },
          "metadata": {}
        }
      ],
      "execution_count": 16
    },
    {
      "cell_type": "code",
      "source": "NN_budget = DF[DF['budget'].isnull()]",
      "metadata": {
        "trusted": true
      },
      "outputs": [],
      "execution_count": 17
    },
    {
      "cell_type": "code",
      "source": "NN_budget.shape",
      "metadata": {
        "trusted": true
      },
      "outputs": [
        {
          "execution_count": 18,
          "output_type": "execute_result",
          "data": {
            "text/plain": "(0, 13)"
          },
          "metadata": {}
        }
      ],
      "execution_count": 18
    },
    {
      "cell_type": "code",
      "source": "#NN_Del = DF.drop(columns = ['casts', 'directors', 'writers'], inplace = True)\nDF.head(2)",
      "metadata": {
        "trusted": true
      },
      "outputs": [
        {
          "execution_count": 35,
          "output_type": "execute_result",
          "data": {
            "text/plain": "   rank                      name  year  rating        genre certificate  \\\n0     1  The Shawshank Redemption  1994     9.3        Drama           R   \n1     2             The Godfather  1972     9.2  Crime,Drama           R   \n\n  run_time                                            tagline    budget  \\\n0   2h 22m  Fear can hold you prisoner. Hope can set you f...  25000000   \n1   2h 55m                         An offer you can't refuse.   6000000   \n\n  box_office  \n0   28884504  \n1  250341816  ",
            "text/html": "<div>\n<style scoped>\n    .dataframe tbody tr th:only-of-type {\n        vertical-align: middle;\n    }\n\n    .dataframe tbody tr th {\n        vertical-align: top;\n    }\n\n    .dataframe thead th {\n        text-align: right;\n    }\n</style>\n<table border=\"1\" class=\"dataframe\">\n  <thead>\n    <tr style=\"text-align: right;\">\n      <th></th>\n      <th>rank</th>\n      <th>name</th>\n      <th>year</th>\n      <th>rating</th>\n      <th>genre</th>\n      <th>certificate</th>\n      <th>run_time</th>\n      <th>tagline</th>\n      <th>budget</th>\n      <th>box_office</th>\n    </tr>\n  </thead>\n  <tbody>\n    <tr>\n      <th>0</th>\n      <td>1</td>\n      <td>The Shawshank Redemption</td>\n      <td>1994</td>\n      <td>9.3</td>\n      <td>Drama</td>\n      <td>R</td>\n      <td>2h 22m</td>\n      <td>Fear can hold you prisoner. Hope can set you f...</td>\n      <td>25000000</td>\n      <td>28884504</td>\n    </tr>\n    <tr>\n      <th>1</th>\n      <td>2</td>\n      <td>The Godfather</td>\n      <td>1972</td>\n      <td>9.2</td>\n      <td>Crime,Drama</td>\n      <td>R</td>\n      <td>2h 55m</td>\n      <td>An offer you can't refuse.</td>\n      <td>6000000</td>\n      <td>250341816</td>\n    </tr>\n  </tbody>\n</table>\n</div>"
          },
          "metadata": {}
        }
      ],
      "execution_count": 35
    },
    {
      "cell_type": "code",
      "source": "#NN_de = DF.drop(columns = 'tagline', inplace = True)\nDF.head(2)",
      "metadata": {
        "trusted": true
      },
      "outputs": [
        {
          "execution_count": 41,
          "output_type": "execute_result",
          "data": {
            "text/plain": "   rank                      name  year  rating        genre certificate  \\\n0     1  The Shawshank Redemption  1994     9.3        Drama           R   \n1     2             The Godfather  1972     9.2  Crime,Drama           R   \n\n  run_time    budget box_office  \n0   2h 22m  25000000   28884504  \n1   2h 55m   6000000  250341816  ",
            "text/html": "<div>\n<style scoped>\n    .dataframe tbody tr th:only-of-type {\n        vertical-align: middle;\n    }\n\n    .dataframe tbody tr th {\n        vertical-align: top;\n    }\n\n    .dataframe thead th {\n        text-align: right;\n    }\n</style>\n<table border=\"1\" class=\"dataframe\">\n  <thead>\n    <tr style=\"text-align: right;\">\n      <th></th>\n      <th>rank</th>\n      <th>name</th>\n      <th>year</th>\n      <th>rating</th>\n      <th>genre</th>\n      <th>certificate</th>\n      <th>run_time</th>\n      <th>budget</th>\n      <th>box_office</th>\n    </tr>\n  </thead>\n  <tbody>\n    <tr>\n      <th>0</th>\n      <td>1</td>\n      <td>The Shawshank Redemption</td>\n      <td>1994</td>\n      <td>9.3</td>\n      <td>Drama</td>\n      <td>R</td>\n      <td>2h 22m</td>\n      <td>25000000</td>\n      <td>28884504</td>\n    </tr>\n    <tr>\n      <th>1</th>\n      <td>2</td>\n      <td>The Godfather</td>\n      <td>1972</td>\n      <td>9.2</td>\n      <td>Crime,Drama</td>\n      <td>R</td>\n      <td>2h 55m</td>\n      <td>6000000</td>\n      <td>250341816</td>\n    </tr>\n  </tbody>\n</table>\n</div>"
          },
          "metadata": {}
        }
      ],
      "execution_count": 41
    },
    {
      "cell_type": "code",
      "source": "DF",
      "metadata": {
        "trusted": true
      },
      "outputs": [
        {
          "execution_count": 128,
          "output_type": "execute_result",
          "data": {
            "text/plain": "     rank                      name  year  rating                       genre  \\\n0       1  The Shawshank Redemption  1994     9.3                       Drama   \n1       2             The Godfather  1972     9.2                 Crime,Drama   \n2       3           The Dark Knight  2008     9.0          Action,Crime,Drama   \n3       4     The Godfather Part II  1974     9.0                 Crime,Drama   \n4       5              12 Angry Men  1957     9.0                 Crime,Drama   \n..    ...                       ...   ...     ...                         ...   \n245   246                  The Help  2011     8.1                       Drama   \n246   247               Dersu Uzala  1975     8.2   Adventure,Biography,Drama   \n247   248                   Aladdin  1992     8.0  Animation,Adventure,Comedy   \n248   249                    Gandhi  1982     8.0     Biography,Drama,History   \n249   250        Dances with Wolves  1990     8.0     Adventure,Drama,Western   \n\n    certificate run_time         budget     box_office  MovieStatus  \n0             R   2h 22m       25000000       28884504  Blockbuster  \n1             R   2h 55m        6000000      250341816         Flop  \n2         PG-13   2h 32m      185000000     1006234167         Flop  \n3             R   3h 22m       13000000       47961919  Blockbuster  \n4      Approved   1h 36m         350000            955  Blockbuster  \n..          ...      ...            ...            ...          ...  \n245       PG-13   2h 26m       25000000      216639112         Flop  \n246           G   2h 22m        4000000          14480         Flop  \n247           G   1h 30m  Not Available  Not Available  Blockbuster  \n248          PG   3h 11m       22000000       52767889  Blockbuster  \n249       PG-13    3h 1m       22000000      424208848  Blockbuster  \n\n[250 rows x 10 columns]",
            "text/html": "<div>\n<style scoped>\n    .dataframe tbody tr th:only-of-type {\n        vertical-align: middle;\n    }\n\n    .dataframe tbody tr th {\n        vertical-align: top;\n    }\n\n    .dataframe thead th {\n        text-align: right;\n    }\n</style>\n<table border=\"1\" class=\"dataframe\">\n  <thead>\n    <tr style=\"text-align: right;\">\n      <th></th>\n      <th>rank</th>\n      <th>name</th>\n      <th>year</th>\n      <th>rating</th>\n      <th>genre</th>\n      <th>certificate</th>\n      <th>run_time</th>\n      <th>budget</th>\n      <th>box_office</th>\n      <th>MovieStatus</th>\n    </tr>\n  </thead>\n  <tbody>\n    <tr>\n      <th>0</th>\n      <td>1</td>\n      <td>The Shawshank Redemption</td>\n      <td>1994</td>\n      <td>9.3</td>\n      <td>Drama</td>\n      <td>R</td>\n      <td>2h 22m</td>\n      <td>25000000</td>\n      <td>28884504</td>\n      <td>Blockbuster</td>\n    </tr>\n    <tr>\n      <th>1</th>\n      <td>2</td>\n      <td>The Godfather</td>\n      <td>1972</td>\n      <td>9.2</td>\n      <td>Crime,Drama</td>\n      <td>R</td>\n      <td>2h 55m</td>\n      <td>6000000</td>\n      <td>250341816</td>\n      <td>Flop</td>\n    </tr>\n    <tr>\n      <th>2</th>\n      <td>3</td>\n      <td>The Dark Knight</td>\n      <td>2008</td>\n      <td>9.0</td>\n      <td>Action,Crime,Drama</td>\n      <td>PG-13</td>\n      <td>2h 32m</td>\n      <td>185000000</td>\n      <td>1006234167</td>\n      <td>Flop</td>\n    </tr>\n    <tr>\n      <th>3</th>\n      <td>4</td>\n      <td>The Godfather Part II</td>\n      <td>1974</td>\n      <td>9.0</td>\n      <td>Crime,Drama</td>\n      <td>R</td>\n      <td>3h 22m</td>\n      <td>13000000</td>\n      <td>47961919</td>\n      <td>Blockbuster</td>\n    </tr>\n    <tr>\n      <th>4</th>\n      <td>5</td>\n      <td>12 Angry Men</td>\n      <td>1957</td>\n      <td>9.0</td>\n      <td>Crime,Drama</td>\n      <td>Approved</td>\n      <td>1h 36m</td>\n      <td>350000</td>\n      <td>955</td>\n      <td>Blockbuster</td>\n    </tr>\n    <tr>\n      <th>...</th>\n      <td>...</td>\n      <td>...</td>\n      <td>...</td>\n      <td>...</td>\n      <td>...</td>\n      <td>...</td>\n      <td>...</td>\n      <td>...</td>\n      <td>...</td>\n      <td>...</td>\n    </tr>\n    <tr>\n      <th>245</th>\n      <td>246</td>\n      <td>The Help</td>\n      <td>2011</td>\n      <td>8.1</td>\n      <td>Drama</td>\n      <td>PG-13</td>\n      <td>2h 26m</td>\n      <td>25000000</td>\n      <td>216639112</td>\n      <td>Flop</td>\n    </tr>\n    <tr>\n      <th>246</th>\n      <td>247</td>\n      <td>Dersu Uzala</td>\n      <td>1975</td>\n      <td>8.2</td>\n      <td>Adventure,Biography,Drama</td>\n      <td>G</td>\n      <td>2h 22m</td>\n      <td>4000000</td>\n      <td>14480</td>\n      <td>Flop</td>\n    </tr>\n    <tr>\n      <th>247</th>\n      <td>248</td>\n      <td>Aladdin</td>\n      <td>1992</td>\n      <td>8.0</td>\n      <td>Animation,Adventure,Comedy</td>\n      <td>G</td>\n      <td>1h 30m</td>\n      <td>Not Available</td>\n      <td>Not Available</td>\n      <td>Blockbuster</td>\n    </tr>\n    <tr>\n      <th>248</th>\n      <td>249</td>\n      <td>Gandhi</td>\n      <td>1982</td>\n      <td>8.0</td>\n      <td>Biography,Drama,History</td>\n      <td>PG</td>\n      <td>3h 11m</td>\n      <td>22000000</td>\n      <td>52767889</td>\n      <td>Blockbuster</td>\n    </tr>\n    <tr>\n      <th>249</th>\n      <td>250</td>\n      <td>Dances with Wolves</td>\n      <td>1990</td>\n      <td>8.0</td>\n      <td>Adventure,Drama,Western</td>\n      <td>PG-13</td>\n      <td>3h 1m</td>\n      <td>22000000</td>\n      <td>424208848</td>\n      <td>Blockbuster</td>\n    </tr>\n  </tbody>\n</table>\n<p>250 rows × 10 columns</p>\n</div>"
          },
          "metadata": {}
        }
      ],
      "execution_count": 128
    },
    {
      "cell_type": "markdown",
      "source": "### 1. Average rating ",
      "metadata": {}
    },
    {
      "cell_type": "code",
      "source": "Average_rating = DF['rating'].mean()",
      "metadata": {
        "trusted": true
      },
      "outputs": [],
      "execution_count": 43
    },
    {
      "cell_type": "code",
      "source": "Average_rating",
      "metadata": {
        "trusted": true
      },
      "outputs": [
        {
          "execution_count": 74,
          "output_type": "execute_result",
          "data": {
            "text/plain": "8.3072"
          },
          "metadata": {}
        }
      ],
      "execution_count": 74
    },
    {
      "cell_type": "markdown",
      "source": "### 2. Most common Genre of the Movies",
      "metadata": {}
    },
    {
      "cell_type": "code",
      "source": "Genre_counts = DF['genre'].value_counts()",
      "metadata": {
        "trusted": true
      },
      "outputs": [],
      "execution_count": 64
    },
    {
      "cell_type": "code",
      "source": "Genre_counts.sort_values(ascending = False)",
      "metadata": {
        "trusted": true
      },
      "outputs": [
        {
          "execution_count": 130,
          "output_type": "execute_result",
          "data": {
            "text/plain": "Drama                         19\nCrime,Drama                   14\nAnimation,Adventure,Comedy    10\nBiography,Drama,History        9\nCrime,Drama,Mystery            9\n                              ..\nComedy,Drama,Fantasy           1\nDrama,Fantasy                  1\nAdventure,Comedy,Crime         1\nDrama,Music                    1\nComedy                         1\nName: genre, Length: 104, dtype: int64"
          },
          "metadata": {}
        }
      ],
      "execution_count": 130
    },
    {
      "cell_type": "code",
      "source": "Most_common_genre = Genre_counts.idxmax()",
      "metadata": {
        "trusted": true
      },
      "outputs": [],
      "execution_count": 72
    },
    {
      "cell_type": "code",
      "source": "print(f\"The most common genre is: {Most_common_genre}\")",
      "metadata": {
        "trusted": true
      },
      "outputs": [
        {
          "name": "stdout",
          "text": "The most common genre is: Drama\n",
          "output_type": "stream"
        }
      ],
      "execution_count": 73
    },
    {
      "cell_type": "markdown",
      "source": "### 3. Movies name released in the year",
      "metadata": {}
    },
    {
      "cell_type": "code",
      "source": "Year_counts = DF['year'].value_counts()",
      "metadata": {
        "trusted": true
      },
      "outputs": [],
      "execution_count": 76
    },
    {
      "cell_type": "code",
      "source": "Year_counts",
      "metadata": {
        "trusted": true
      },
      "outputs": [
        {
          "execution_count": 77,
          "output_type": "execute_result",
          "data": {
            "text/plain": "1995    8\n2004    7\n2009    6\n1957    6\n2003    6\n       ..\n1941    1\n1958    1\n2022    1\n1987    1\n1934    1\nName: year, Length: 86, dtype: int64"
          },
          "metadata": {}
        }
      ],
      "execution_count": 77
    },
    {
      "cell_type": "code",
      "source": "def movies_by_year(DF, year):\n    year_df = DF[DF['year']==year]\n    movies_name = year_df['name'].tolist()\n    return movies_name",
      "metadata": {
        "trusted": true
      },
      "outputs": [],
      "execution_count": 100
    },
    {
      "cell_type": "code",
      "source": "movies_by_year(DF, 1995)",
      "metadata": {
        "trusted": true
      },
      "outputs": [
        {
          "execution_count": 131,
          "output_type": "execute_result",
          "data": {
            "text/plain": "['Se7en',\n 'The Usual Suspects',\n 'Toy Story',\n 'Braveheart',\n 'Heat',\n 'Casino',\n 'Before Sunrise',\n 'La haine']"
          },
          "metadata": {}
        }
      ],
      "execution_count": 131
    },
    {
      "cell_type": "markdown",
      "source": "### 4. Most common certificate given by the Board ",
      "metadata": {}
    },
    {
      "cell_type": "code",
      "source": "Counts_certificate = DF['certificate'].value_counts()",
      "metadata": {
        "trusted": true
      },
      "outputs": [],
      "execution_count": 106
    },
    {
      "cell_type": "code",
      "source": "Counts_certificate",
      "metadata": {
        "trusted": true
      },
      "outputs": [
        {
          "execution_count": 107,
          "output_type": "execute_result",
          "data": {
            "text/plain": "R                97\nPG               37\nPG-13            35\nNot Rated        24\nG                19\nPassed           16\nApproved         14\n18+               1\nNot Available     1\nTV-PG             1\nUnrated           1\nX                 1\n13+               1\nTV-MA             1\nGP                1\nName: certificate, dtype: int64"
          },
          "metadata": {}
        }
      ],
      "execution_count": 107
    },
    {
      "cell_type": "code",
      "source": "Most_common_certificate = Counts_certificate.idxmax()",
      "metadata": {
        "trusted": true
      },
      "outputs": [],
      "execution_count": 109
    },
    {
      "cell_type": "code",
      "source": "print(f\"The most common certificate is: {Most_common_certificate}\")",
      "metadata": {
        "trusted": true
      },
      "outputs": [
        {
          "name": "stdout",
          "text": "The most common certificate is: R\n",
          "output_type": "stream"
        }
      ],
      "execution_count": 110
    },
    {
      "cell_type": "markdown",
      "source": "### 5. Comparison of the budget and box office",
      "metadata": {}
    },
    {
      "cell_type": "code",
      "source": "def movie_success(row):\n    if row['box_office'] >= row['budget']:\n       return 'Blockbuster'\n    else: \n       return 'Flop'",
      "metadata": {
        "trusted": true
      },
      "outputs": [],
      "execution_count": 119
    },
    {
      "cell_type": "code",
      "source": "DF['MovieStatus'] = DF.apply(movie_success, axis=1)",
      "metadata": {
        "trusted": true
      },
      "outputs": [],
      "execution_count": 120
    },
    {
      "cell_type": "code",
      "source": "print(DF)",
      "metadata": {
        "trusted": true
      },
      "outputs": [
        {
          "name": "stdout",
          "text": "     rank                      name  year  rating                       genre  \\\n0       1  The Shawshank Redemption  1994     9.3                       Drama   \n1       2             The Godfather  1972     9.2                 Crime,Drama   \n2       3           The Dark Knight  2008     9.0          Action,Crime,Drama   \n3       4     The Godfather Part II  1974     9.0                 Crime,Drama   \n4       5              12 Angry Men  1957     9.0                 Crime,Drama   \n..    ...                       ...   ...     ...                         ...   \n245   246                  The Help  2011     8.1                       Drama   \n246   247               Dersu Uzala  1975     8.2   Adventure,Biography,Drama   \n247   248                   Aladdin  1992     8.0  Animation,Adventure,Comedy   \n248   249                    Gandhi  1982     8.0     Biography,Drama,History   \n249   250        Dances with Wolves  1990     8.0     Adventure,Drama,Western   \n\n    certificate run_time         budget     box_office  MovieStatus  \n0             R   2h 22m       25000000       28884504  Blockbuster  \n1             R   2h 55m        6000000      250341816         Flop  \n2         PG-13   2h 32m      185000000     1006234167         Flop  \n3             R   3h 22m       13000000       47961919  Blockbuster  \n4      Approved   1h 36m         350000            955  Blockbuster  \n..          ...      ...            ...            ...          ...  \n245       PG-13   2h 26m       25000000      216639112         Flop  \n246           G   2h 22m        4000000          14480         Flop  \n247           G   1h 30m  Not Available  Not Available  Blockbuster  \n248          PG   3h 11m       22000000       52767889  Blockbuster  \n249       PG-13    3h 1m       22000000      424208848  Blockbuster  \n\n[250 rows x 10 columns]\n",
          "output_type": "stream"
        }
      ],
      "execution_count": 124
    },
    {
      "cell_type": "code",
      "source": "DF.head(15)",
      "metadata": {
        "trusted": true
      },
      "outputs": [
        {
          "execution_count": 125,
          "output_type": "execute_result",
          "data": {
            "text/plain": "    rank                                               name  year  rating  \\\n0      1                           The Shawshank Redemption  1994     9.3   \n1      2                                      The Godfather  1972     9.2   \n2      3                                    The Dark Knight  2008     9.0   \n3      4                              The Godfather Part II  1974     9.0   \n4      5                                       12 Angry Men  1957     9.0   \n5      6                                   Schindler's List  1993     9.0   \n6      7      The Lord of the Rings: The Return of the King  2003     9.0   \n7      8                                       Pulp Fiction  1994     8.9   \n8      9  The Lord of the Rings: The Fellowship of the Ring  2001     8.8   \n9     10                     The Good, the Bad and the Ugly  1966     8.8   \n10    11                                       Forrest Gump  1994     8.8   \n11    12                                         Fight Club  1999     8.8   \n12    13              The Lord of the Rings: The Two Towers  2002     8.8   \n13    14                                          Inception  2010     8.8   \n14    15     Star Wars: Episode V - The Empire Strikes Back  1980     8.7   \n\n                       genre certificate run_time     budget  box_office  \\\n0                      Drama           R   2h 22m   25000000    28884504   \n1                Crime,Drama           R   2h 55m    6000000   250341816   \n2         Action,Crime,Drama       PG-13   2h 32m  185000000  1006234167   \n3                Crime,Drama           R   3h 22m   13000000    47961919   \n4                Crime,Drama    Approved   1h 36m     350000         955   \n5    Biography,Drama,History           R   3h 15m   22000000   322161245   \n6     Action,Adventure,Drama       PG-13   3h 21m   94000000  1146457748   \n7                Crime,Drama           R   2h 34m    8000000   213928762   \n8     Action,Adventure,Drama       PG-13   2h 58m   93000000   898204420   \n9          Adventure,Western    Approved   2h 58m    1200000    25253887   \n10             Drama,Romance       PG-13   2h 22m   55000000   678226465   \n11                     Drama           R   2h 19m   63000000   101209702   \n12    Action,Adventure,Drama       PG-13   2h 59m   94000000   947944270   \n13   Action,Adventure,Sci-Fi       PG-13   2h 28m  160000000   836848102   \n14  Action,Adventure,Fantasy          PG    2h 4m   18000000   538375067   \n\n    MovieStatus  \n0   Blockbuster  \n1          Flop  \n2          Flop  \n3   Blockbuster  \n4   Blockbuster  \n5   Blockbuster  \n6          Flop  \n7          Flop  \n8          Flop  \n9   Blockbuster  \n10  Blockbuster  \n11         Flop  \n12  Blockbuster  \n13  Blockbuster  \n14  Blockbuster  ",
            "text/html": "<div>\n<style scoped>\n    .dataframe tbody tr th:only-of-type {\n        vertical-align: middle;\n    }\n\n    .dataframe tbody tr th {\n        vertical-align: top;\n    }\n\n    .dataframe thead th {\n        text-align: right;\n    }\n</style>\n<table border=\"1\" class=\"dataframe\">\n  <thead>\n    <tr style=\"text-align: right;\">\n      <th></th>\n      <th>rank</th>\n      <th>name</th>\n      <th>year</th>\n      <th>rating</th>\n      <th>genre</th>\n      <th>certificate</th>\n      <th>run_time</th>\n      <th>budget</th>\n      <th>box_office</th>\n      <th>MovieStatus</th>\n    </tr>\n  </thead>\n  <tbody>\n    <tr>\n      <th>0</th>\n      <td>1</td>\n      <td>The Shawshank Redemption</td>\n      <td>1994</td>\n      <td>9.3</td>\n      <td>Drama</td>\n      <td>R</td>\n      <td>2h 22m</td>\n      <td>25000000</td>\n      <td>28884504</td>\n      <td>Blockbuster</td>\n    </tr>\n    <tr>\n      <th>1</th>\n      <td>2</td>\n      <td>The Godfather</td>\n      <td>1972</td>\n      <td>9.2</td>\n      <td>Crime,Drama</td>\n      <td>R</td>\n      <td>2h 55m</td>\n      <td>6000000</td>\n      <td>250341816</td>\n      <td>Flop</td>\n    </tr>\n    <tr>\n      <th>2</th>\n      <td>3</td>\n      <td>The Dark Knight</td>\n      <td>2008</td>\n      <td>9.0</td>\n      <td>Action,Crime,Drama</td>\n      <td>PG-13</td>\n      <td>2h 32m</td>\n      <td>185000000</td>\n      <td>1006234167</td>\n      <td>Flop</td>\n    </tr>\n    <tr>\n      <th>3</th>\n      <td>4</td>\n      <td>The Godfather Part II</td>\n      <td>1974</td>\n      <td>9.0</td>\n      <td>Crime,Drama</td>\n      <td>R</td>\n      <td>3h 22m</td>\n      <td>13000000</td>\n      <td>47961919</td>\n      <td>Blockbuster</td>\n    </tr>\n    <tr>\n      <th>4</th>\n      <td>5</td>\n      <td>12 Angry Men</td>\n      <td>1957</td>\n      <td>9.0</td>\n      <td>Crime,Drama</td>\n      <td>Approved</td>\n      <td>1h 36m</td>\n      <td>350000</td>\n      <td>955</td>\n      <td>Blockbuster</td>\n    </tr>\n    <tr>\n      <th>5</th>\n      <td>6</td>\n      <td>Schindler's List</td>\n      <td>1993</td>\n      <td>9.0</td>\n      <td>Biography,Drama,History</td>\n      <td>R</td>\n      <td>3h 15m</td>\n      <td>22000000</td>\n      <td>322161245</td>\n      <td>Blockbuster</td>\n    </tr>\n    <tr>\n      <th>6</th>\n      <td>7</td>\n      <td>The Lord of the Rings: The Return of the King</td>\n      <td>2003</td>\n      <td>9.0</td>\n      <td>Action,Adventure,Drama</td>\n      <td>PG-13</td>\n      <td>3h 21m</td>\n      <td>94000000</td>\n      <td>1146457748</td>\n      <td>Flop</td>\n    </tr>\n    <tr>\n      <th>7</th>\n      <td>8</td>\n      <td>Pulp Fiction</td>\n      <td>1994</td>\n      <td>8.9</td>\n      <td>Crime,Drama</td>\n      <td>R</td>\n      <td>2h 34m</td>\n      <td>8000000</td>\n      <td>213928762</td>\n      <td>Flop</td>\n    </tr>\n    <tr>\n      <th>8</th>\n      <td>9</td>\n      <td>The Lord of the Rings: The Fellowship of the Ring</td>\n      <td>2001</td>\n      <td>8.8</td>\n      <td>Action,Adventure,Drama</td>\n      <td>PG-13</td>\n      <td>2h 58m</td>\n      <td>93000000</td>\n      <td>898204420</td>\n      <td>Flop</td>\n    </tr>\n    <tr>\n      <th>9</th>\n      <td>10</td>\n      <td>The Good, the Bad and the Ugly</td>\n      <td>1966</td>\n      <td>8.8</td>\n      <td>Adventure,Western</td>\n      <td>Approved</td>\n      <td>2h 58m</td>\n      <td>1200000</td>\n      <td>25253887</td>\n      <td>Blockbuster</td>\n    </tr>\n    <tr>\n      <th>10</th>\n      <td>11</td>\n      <td>Forrest Gump</td>\n      <td>1994</td>\n      <td>8.8</td>\n      <td>Drama,Romance</td>\n      <td>PG-13</td>\n      <td>2h 22m</td>\n      <td>55000000</td>\n      <td>678226465</td>\n      <td>Blockbuster</td>\n    </tr>\n    <tr>\n      <th>11</th>\n      <td>12</td>\n      <td>Fight Club</td>\n      <td>1999</td>\n      <td>8.8</td>\n      <td>Drama</td>\n      <td>R</td>\n      <td>2h 19m</td>\n      <td>63000000</td>\n      <td>101209702</td>\n      <td>Flop</td>\n    </tr>\n    <tr>\n      <th>12</th>\n      <td>13</td>\n      <td>The Lord of the Rings: The Two Towers</td>\n      <td>2002</td>\n      <td>8.8</td>\n      <td>Action,Adventure,Drama</td>\n      <td>PG-13</td>\n      <td>2h 59m</td>\n      <td>94000000</td>\n      <td>947944270</td>\n      <td>Blockbuster</td>\n    </tr>\n    <tr>\n      <th>13</th>\n      <td>14</td>\n      <td>Inception</td>\n      <td>2010</td>\n      <td>8.8</td>\n      <td>Action,Adventure,Sci-Fi</td>\n      <td>PG-13</td>\n      <td>2h 28m</td>\n      <td>160000000</td>\n      <td>836848102</td>\n      <td>Blockbuster</td>\n    </tr>\n    <tr>\n      <th>14</th>\n      <td>15</td>\n      <td>Star Wars: Episode V - The Empire Strikes Back</td>\n      <td>1980</td>\n      <td>8.7</td>\n      <td>Action,Adventure,Fantasy</td>\n      <td>PG</td>\n      <td>2h 4m</td>\n      <td>18000000</td>\n      <td>538375067</td>\n      <td>Blockbuster</td>\n    </tr>\n  </tbody>\n</table>\n</div>"
          },
          "metadata": {}
        }
      ],
      "execution_count": 125
    },
    {
      "cell_type": "code",
      "source": "DF['MovieStatus'].value_counts()['Blockbuster']",
      "metadata": {
        "trusted": true
      },
      "outputs": [
        {
          "execution_count": 135,
          "output_type": "execute_result",
          "data": {
            "text/plain": "145"
          },
          "metadata": {}
        }
      ],
      "execution_count": 135
    },
    {
      "cell_type": "code",
      "source": "",
      "metadata": {
        "trusted": true
      },
      "outputs": [],
      "execution_count": null
    }
  ]
}